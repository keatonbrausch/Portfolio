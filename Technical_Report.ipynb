{
 "cells": [
  {
   "attachments": {},
   "cell_type": "markdown",
   "metadata": {},
   "source": [
    "# Credit Card Data and Trends\n",
    "\n",
    "By: Keaton Brausch "
   ]
  },
  {
   "cell_type": "markdown",
   "metadata": {},
   "source": [
    "## Introduction\n",
    "\n",
    "This technical report focuses on the data cleaning, visualization, hypothesis testing and classification of my credit card transaction history for just over the past year.  \n",
    "\n",
    "### Domain \n",
    "\n",
    "The domain of this project is the finance domain and more specifically the personal finance domain. This domain is important to me, just as it should be to anyone, because having knowledge within the world of personal finance gives me the ability to be successful in managing my money and other assets in my life, such as making smart purchases and investments. Within this domain I am researching the when, where and what of how I spend my money, and more specifically the when, where and what of how I spend my money using a Discover student credit card. Using this data I am hoping I can learn how I spend my money and become better at deciding what to and what to not spend money on in the future.\n",
    "\n",
    "### Hypotheses\n",
    "\n",
    "My general, overall hypothesis is that while researching this domain I will find that I have spent more money than I realized either due to purposeful negligence or just irresponsibility. \n",
    "\n",
    "Some of my other hypotheses that will be be tested include:\n",
    "* The mean amount of a transaction in the 'Merchandise' category is different from the mean amount of a transaction in the 'Restaurants' category.\n",
    "* The mean amount of a transaction in the 'Merchandise' category is greater than the overall mean transaction amount.\n",
    "* The average transaction amount on a Friday is less than the average transaction amount on a Monday.\n",
    "\n",
    "### Impact and Stakeholders \n",
    "\n",
    "The potential impact of what can be learned researching this domain is knowledge that will allow me to better assess my spending and make changes to improve it. This study can help improve the overall state of my personal finances as well as help other college aged people improve theirs based on the findings and data. Other potential impacts could include data or findings that credit card companies, such as Discover, could be interested in to learn about the credit card usage of college students. \n",
    "\n",
    "The stakeholders in this in this case are also similar. I, Keaton Brausch, am a stakeholder in this study, as the success of this study will theoretically improve my personal finances and therefore improving my overall life. The credit card company, Discover, who supplies my credit card is also a stakeholder as using this data and the findings from it they could improve their credit cards that are marketed towards college students. This could also apply to other companies that offer goods and services aimed at college students as they learn where, when and on what an average college student might spend their money. Other possible stakeholders could be those attempting to teach people about personal finance or perhaps other college students, or people in general, who want to study others spending habits. This study could be an example of what to and not to spend money on or an example of either good or bad (most definitely bad), financial habits.\n",
    "\n",
    "### Classification\n",
    "\n",
    "In this dataset I decided to try to classify the Category of each transaction. I found that using the kNN classifier with k=1 neighbor I could get the accuracy to .86 which I would consider very good considering the extreme variance and amount of outlier data points in my dataset (e.g. a one of purchase at some random store). The accuracy for kNN was just barely better than the Decision Tree classifier which came in with an accuracy of .79. I was pretty satisfied with the accuracy of both of these methods and both could have been made better if I took out the outliers before training and testing the dataset."
   ]
  },
  {
   "cell_type": "markdown",
   "metadata": {},
   "source": [
    "## Data Analysis \n",
    "\n",
    "### Dataset Description - Credit Card Transaction Data\n",
    "\n",
    "The dataset I will be using for this project is my credit card transaction history over the past year (give or take a month). The data in this dataset is automatically collected by Discover, my credit card provider, everytime I complete a transaction with my Discover credit card. This data is easily accessible via their website and can be downloaded. The downloaded data comes in the .csv format and includes 5 attributes and roughly 300 instances.\n",
    "\n",
    "The 5 attributes included in this dataset are:\n",
    "* Trans. Date: The date on which the transaction occurred.\n",
    "* Post Date: The date on which the transaction is officially posted onto the \n",
    "* Description: A description of the transaction (namely a description of the merchant)\n",
    "* Amount: The amount of dollars (USD) the transaction cost.\n",
    "* Category: The category of the transaction (e.g. Restaurant, Supermarkets etc.)\n",
    "\n"
   ]
  },
  {
   "cell_type": "markdown",
   "metadata": {},
   "source": [
    "### Data Preparation \n",
    "\n",
    "For this project the data preparation process involved largely cleaning the dataset in addition to adding additional data to the dataset. The goal of the data preparation stage was to create an uniform and expanded dataset that is easy and effective to work with.\n",
    "\n",
    "#### Data Cleaning\n",
    "\n",
    "This dataset was relatively easy to clean as there were no missing values and 3 of the 4 columns are uniform and needed almost no cleaning. The primary problems that needed to be fixed via data cleaning were:\n",
    "\n",
    "* The presence of invalid data points (negative values) \n",
    "    * To fix this the invalid instances that contained negative values were dropped from the dataset.\n",
    "* A lack of uniformity across the transaction description attribute (for example AMZN vs Amazon). \n",
    "    * To fix this an if-else chain was written to create uniform descriptions for the the descriptions that appeared most often (i.e. Amazon). Any one off descriptions that only appeared once or twice were cleaned by hand after the majority of the descriptions were cleaned via the if-else chain. \n",
    "* Unnecessary data\n",
    "    * The easy fix to this was simply to drop the DataFrame columns containing the unwanted data.\n",
    "    \n",
    "#### DataFrame before cleaning:"
   ]
  },
  {
   "cell_type": "code",
   "execution_count": 1,
   "metadata": {},
   "outputs": [
    {
     "name": "stdout",
     "output_type": "stream",
     "text": [
      "            Post Date                                        Description  \\\n",
      "Trans. Date                                                                \n",
      "8/28/19       8/28/19  LIM*RIDE COST 888-546-3345 CAAPPLE PAY ENDING ...   \n",
      "8/28/19       8/28/19                      SAFEWAY STORE 3255 SPOKANE WA   \n",
      "8/29/19       8/29/19                               NIKE INC. SPOKANE WA   \n",
      "8/31/19       8/31/19                                  TARGET SPOKANE WA   \n",
      "8/31/19       8/31/19          TARGET SPOKANE WAAPPLE PAY ENDING IN 0296   \n",
      "...               ...                                                ...   \n",
      "11/9/20       11/9/20    AMAZON.COM*289CP7UQ0 AMZN.COM/BILLWA28TVPRS751Z   \n",
      "11/14/20     11/14/20  DIRECTPAY FULL BALANCESEE DETAILS OF YOUR NEXT...   \n",
      "11/16/20     11/16/20  DOORDASH*MCDONALDS 6506819470 CAAPPLE PAY ENDI...   \n",
      "11/17/20     11/17/20    AMAZON.COM*2053Q5TE2 AMZN.COM/BILLWA23QSLL567KF   \n",
      "11/17/20     11/17/20               TRV* PATAGONIA WORN WE 3036539611 CA   \n",
      "\n",
      "             Amount               Category  \n",
      "Trans. Date                                 \n",
      "8/28/19        1.50  Travel/ Entertainment  \n",
      "8/28/19       11.97           Supermarkets  \n",
      "8/29/19       43.56            Merchandise  \n",
      "8/31/19       34.85           Supermarkets  \n",
      "8/31/19       71.72           Supermarkets  \n",
      "...             ...                    ...  \n",
      "11/9/20       13.34            Merchandise  \n",
      "11/14/20    -211.54   Payments and Credits  \n",
      "11/16/20      23.63            Restaurants  \n",
      "11/17/20      10.33            Merchandise  \n",
      "11/17/20      74.07            Merchandise  \n",
      "\n",
      "[296 rows x 4 columns]\n"
     ]
    }
   ],
   "source": [
    "import utils\n",
    "import pandas as pd \n",
    "\n",
    "#first step is to put the dataset into a DataFrame\n",
    "cc_df = pd.read_csv('raw_cc_data.csv',index_col=0, header=0)\n",
    "\n",
    "#print DataFrame to show before cleaning\n",
    "print(cc_df)"
   ]
  },
  {
   "cell_type": "markdown",
   "metadata": {},
   "source": [
    "#### DataFrame after cleaning:"
   ]
  },
  {
   "cell_type": "code",
   "execution_count": 2,
   "metadata": {},
   "outputs": [
    {
     "name": "stdout",
     "output_type": "stream",
     "text": [
      "         Date    Description  Amount               Category\n",
      "0     8/28/19  Lime Scooters    1.50  Travel/ Entertainment\n",
      "1     8/28/19        Safeway   11.97           Supermarkets\n",
      "2     8/29/19           Nike   43.56            Merchandise\n",
      "3     8/31/19         Target   34.85           Supermarkets\n",
      "4     8/31/19         Target   71.72           Supermarkets\n",
      "..        ...            ...     ...                    ...\n",
      "264   11/8/20        Safeway   52.78           Supermarkets\n",
      "265   11/9/20         Amazon   13.34            Merchandise\n",
      "266  11/16/20       DoorDash   23.63            Restaurants\n",
      "267  11/17/20         Amazon   10.33            Merchandise\n",
      "268  11/17/20      Patagonia   74.07            Merchandise\n",
      "\n",
      "[269 rows x 4 columns]\n"
     ]
    }
   ],
   "source": [
    "#dropping an unnecessary attribute\n",
    "del cc_df['Post Date']\n",
    "\n",
    "#utils. functions stored in seperate .py file\n",
    "#getting rid of any negative transaction amounts\n",
    "utils.remove_negatives(cc_df,'Amount')\n",
    "\n",
    "#clean ~95% of transaction descriptions\n",
    "utils.clean_descriptions(cc_df,'Description','Category')\n",
    "\n",
    "#export DataFrame to .csv for manual cleaning \n",
    "utils.write_csv('dirty_cc_data.csv', cc_df)\n",
    "\n",
    "#import clean dataset back into DataFrame after manual cleaning\n",
    "cc_df = pd.read_csv('clean_cc_data.csv',header=0)\n",
    "\n",
    "#print DataFrame to show after cleaning\n",
    "print(cc_df)"
   ]
  },
  {
   "cell_type": "markdown",
   "metadata": {},
   "source": [
    "### Exploratory Data Analysis \n",
    "\n",
    "#### Data Aggregation \n",
    "\n",
    "The only data aggregation technique I am going to apply is expanding my data via adding the day of the week on which the transaction occurred to each instance in the original dataset."
   ]
  },
  {
   "cell_type": "markdown",
   "metadata": {},
   "source": [
    "#### Expanding the Dataset\n",
    "\n",
    "To improve my dataset and what I could do with it I decided to add more semi-relevant data to it. In this case I chose to add the day of the week on which each transaction was completed to the dataset. Adding this data would allow me to find answers to questions such as:\n",
    "\n",
    "* \"Is more money spent on the weekends or weekdays?\" \n",
    "* \"Is there a specific day of the week when the most money is spent?\"\n",
    "* \"Is there a consistent trend of spending over a weekly basis?\"\n",
    "\n",
    "In order to add days of the week for each instance in the dataset I used the 'Date' attribute in combination with the 'datetime' python module. Using the following python code I was able to add the 'Day of Week' attribute to the dataset.\n",
    "\n",
    "#### Expanded DataFrame:"
   ]
  },
  {
   "cell_type": "code",
   "execution_count": 3,
   "metadata": {},
   "outputs": [
    {
     "name": "stdout",
     "output_type": "stream",
     "text": [
      "         Date    Description  Amount               Category Day of Week\n",
      "0     8/28/19  Lime Scooters    1.50  Travel/ Entertainment   Wednesday\n",
      "1     8/28/19        Safeway   11.97           Supermarkets   Wednesday\n",
      "2     8/29/19           Nike   43.56            Merchandise    Thursday\n",
      "3     8/31/19         Target   34.85           Supermarkets    Saturday\n",
      "4     8/31/19         Target   71.72           Supermarkets    Saturday\n",
      "..        ...            ...     ...                    ...         ...\n",
      "264   11/8/20        Safeway   52.78           Supermarkets      Sunday\n",
      "265   11/9/20         Amazon   13.34            Merchandise      Monday\n",
      "266  11/16/20       DoorDash   23.63            Restaurants      Monday\n",
      "267  11/17/20         Amazon   10.33            Merchandise     Tuesday\n",
      "268  11/17/20      Patagonia   74.07            Merchandise     Tuesday\n",
      "\n",
      "[269 rows x 5 columns]\n"
     ]
    }
   ],
   "source": [
    "import datetime as dt\n",
    "\n",
    "#date and day lists\n",
    "date_ser = cc_df['Date']\n",
    "day_list = []\n",
    "\n",
    "#day of week key to decode .weekday() return\n",
    "days_key = ('Monday','Tuesday','Wednesday','Thursday','Friday','Saturday','Sunday')\n",
    "\n",
    "#for loop loops through the date column in dataset\n",
    "for i in range(0, len(date_ser)):\n",
    "    #splits date into month, day and time variables\n",
    "    month, day, year = (int(x) for x in date_ser[i].split('/'))\n",
    "    #creates a date from the datetime module\n",
    "    curr_date = dt.date(year, month, day)\n",
    "    #gets the day of week as an integer and then converts to a string\n",
    "    curr_day = curr_date.weekday()\n",
    "    curr_day = days_key[curr_day]\n",
    "    #appends the day name to a list\n",
    "    day_list.append(curr_day)\n",
    "\n",
    "#adds day of week list to the dataset\n",
    "cc_df['Day of Week'] = day_list\n",
    "\n",
    "#print DataFrame so we can see expanded dataset\n",
    "print(cc_df)"
   ]
  },
  {
   "cell_type": "markdown",
   "metadata": {},
   "source": [
    "#### Data Visualizations\n",
    "\n",
    "To display my data, attributes, and the underlying relationships within my data I chose three different graphs:\n",
    "* Pie Chart\n",
    "* Bar Chart\n",
    "* Scatter Plot\n",
    "\n",
    "#### Visualization 1: Pie Chart"
   ]
  },
  {
   "cell_type": "code",
   "execution_count": 4,
   "metadata": {},
   "outputs": [
    {
     "data": {
      "image/png": "[encoded data removed]",
      "text/plain": [
       "<Figure size 432x288 with 1 Axes>"
      ]
     },
     "metadata": {},
     "output_type": "display_data"
    }
   ],
   "source": [
    "import matplotlib.pyplot as plt \n",
    "\n",
    "#create groups based on category\n",
    "grouped = cc_df.groupby('Category')\n",
    "sum_list = []\n",
    "label_list = []\n",
    "percent_list = []\n",
    "\n",
    "#get and store the sums of amounts for each group (category)\n",
    "for group_name, group_df in grouped:\n",
    "    label_list.append(group_name)\n",
    "    sum_list.append(round(group_df['Amount'].sum(),2))\n",
    "    \n",
    "#get and store the percent of total for each group (category)\n",
    "for x in sum_list:\n",
    "    total = sum(sum_list)\n",
    "    percent_list.append((x/total)*100)\n",
    "    \n",
    "plt.figure() #creates a new \"current\" figure\n",
    "plt.pie(sum_list, startangle=90) #create pie chart\n",
    "plt.title('Percentage of Total Amount Spent ($5844.87) in Each Category')\n",
    "plt.legend(loc='best', bbox_to_anchor=(0, 1), labels=['%s, %1.1f %%' % (l, s) for l, s in zip(label_list, percent_list)])\n",
    "plt.show() #print figure"
   ]
  },
  {
   "cell_type": "markdown",
   "metadata": {},
   "source": [
    "Pie chart observations: \n",
    "* The amount spent in the 'Merchandise' category made up over 50% of the total amount spent. \n",
    "* The amount spent in the 'Education' and 'Gasoline' categories combined account for less than 1% of the total amount spent. \n",
    "* The 'Travel/Entertainment', 'Supermarkets' and 'Services categories are all close together when comparing percent of the total amount spent and combined make up roughly 23% of the total amount spent.\n",
    "* The 'Restaurants' category was the second biggest category making up 22.5% of the total amount spent even though it was less than half as big as the biggest category, 'Merchandise', but as big as the three next biggest categories combined; 'Travel/Entertainment', 'Supermarkets' and 'Services."
   ]
  },
  {
   "cell_type": "markdown",
   "metadata": {},
   "source": [
    "#### Visualization 2: Bar Chart"
   ]
  },
  {
   "cell_type": "code",
   "execution_count": 5,
   "metadata": {},
   "outputs": [
    {
     "data": {
      "image/png": "[encoded data removed]",
      "text/plain": [
       "<Figure size 432x288 with 1 Axes>"
      ]
     },
     "metadata": {
      "needs_background": "light"
     },
     "output_type": "display_data"
    }
   ],
   "source": [
    "grouped = cc_df.groupby('Day of Week')\n",
    "sum_list = []\n",
    "label_list = []\n",
    "\n",
    "#get and store the sums of amounts for each group (day of week)\n",
    "for group_name, group_df in grouped:\n",
    "    label_list.append(group_name)\n",
    "    sum_list.append(round(group_df['Amount'].sum(),2))\n",
    "    \n",
    "plt.figure() #creates a new \"current\" figure\n",
    "\n",
    "#creates a bar chart with gathered data\n",
    "plt.bar(label_list, sum_list, color='green', width=0.5)\n",
    "plt.xlabel('Day of the Week') #labels x axis\n",
    "plt.ylabel('Dollar Amount (USD)') #labels y axis\n",
    "plt.title('Amount of Money Spent on Each Day of the Week')\n",
    "plt.show() #print figure"
   ]
  },
  {
   "cell_type": "markdown",
   "metadata": {},
   "source": [
    "Bar chart observations: \n",
    "* The most amount of money was spent on Monday \n",
    "* The spending on one weekend day, Sunday, is noticeably higher then the spending on the other weekend day, Saturday.\n",
    "* The amount spent spent in the beginning and ends of the week (Sunday, Monday, Friday) are much more than the amount spent in the middle of the week (Tuesday, Wednesday, Thursday)."
   ]
  },
  {
   "cell_type": "markdown",
   "metadata": {},
   "source": [
    "#### Visualization 3: Scatter Plot"
   ]
  },
  {
   "cell_type": "code",
   "execution_count": 6,
   "metadata": {},
   "outputs": [
    {
     "data": {
      "image/png": "[encoded data removed]",
      "text/plain": [
       "<Figure size 432x288 with 1 Axes>"
      ]
     },
     "metadata": {
      "needs_background": "light"
     },
     "output_type": "display_data"
    }
   ],
   "source": [
    "grouped = cc_df.groupby('Category')\n",
    "mean = cc_df['Amount'].mean()\n",
    "#variables\n",
    "label_list = []\n",
    "amount_list = []\n",
    "temp_list = []\n",
    "x = 0\n",
    "\n",
    "#get and store the sums of amounts for each group (day of week)\n",
    "for group_name, group_df in grouped:\n",
    "    label_list.append(group_name)\n",
    "    for val in group_df['Amount']:\n",
    "        x = x+1\n",
    "        amount_list.append(val)\n",
    "        temp_list.append(x)\n",
    "    \n",
    "plt.figure() #creates a new \"current\" figure\n",
    "\n",
    "#creates a scatter chart with gathered data\n",
    "plt.scatter(temp_list, amount_list)\n",
    "point1 = [0, mean]\n",
    "point2 = [269, mean]\n",
    "x_values = [point1[0], point2[0]]\n",
    "y_values = [point1[1], point2[1]]\n",
    "plt. plot(x_values, y_values, color='red')\n",
    "plt.xlabel('Transaction #') #labels x axis\n",
    "plt.ylabel('Transaction Amount (USD)') #labels y axis\n",
    "plt.title('Transaction Amounts Compared to the Mean Transaction Amount')\n",
    "plt.legend(labels=['Mean Transaction Amount','Individual Transaction'])\n",
    "plt.show() #print figure"
   ]
  },
  {
   "cell_type": "markdown",
   "metadata": {},
   "source": [
    "Scatter plot observations:\n",
    "\n",
    "* The majority of vast majority of transactions seem to be right above, right at or below the mean transaction amount.\n",
    "* A relatively few number of large transactions raised the mean above the majority of transactions.\n",
    "* The vast majority of transactions lie between zero and fifty dollars."
   ]
  },
  {
   "cell_type": "markdown",
   "metadata": {},
   "source": [
    "### Hypothesis Testing \n",
    "\n",
    "I will test three different hypotheses using the t-test:\n",
    "* Is the mean amount of a transaction in the 'Merchandise' category significantly different from the mean amount of a transaction in the 'Restaurants' category?\n",
    "* Is the mean amount of a transaction the 'Merchandise' category significantly greater than the mean transaction amount?\n",
    "* Is the average transaction amount on a Friday less than the average Transaction amount on a Monday?"
   ]
  },
  {
   "cell_type": "markdown",
   "metadata": {},
   "source": [
    "#### Hypothesis Test 1:\n",
    "\n",
    "Is the mean amount of a transaction in the 'Merchandise' category significantly different from the mean amount of a transaction in the 'Restaurants' category?\n",
    "\n",
    "##### 1. Prepare Data"
   ]
  },
  {
   "cell_type": "code",
   "execution_count": 7,
   "metadata": {},
   "outputs": [],
   "source": [
    "import numpy as np\n",
    "import scipy.stats as stats\n",
    "\n",
    "grouped = cc_df.groupby('Category')\n",
    "group1 = grouped.get_group('Merchandise')['Amount']\n",
    "group2 = grouped.get_group('Restaurants')['Amount']"
   ]
  },
  {
   "cell_type": "markdown",
   "metadata": {},
   "source": [
    "##### 2. State Null and Alternative Hypotheses\n",
    "\n",
    "Since I want to prove that the mean of group 1 (Merchandise) is different than the mean of group 2 (Restaurants) my null hypothesis is: \n",
    "\n",
    "$H_{0}: \\mu_{1} = \\mu_{2}$\n",
    "\n",
    "And since this is a two tailed t-test my alternative hypothesis is:\n",
    "\n",
    "$H_{1}: \\mu_{1} \\ne \\mu_{2}$"
   ]
  },
  {
   "cell_type": "markdown",
   "metadata": {},
   "source": [
    "##### 3. Select the Level of Significance\n",
    "\n",
    "$\\alpha = 0.5$"
   ]
  },
  {
   "cell_type": "markdown",
   "metadata": {},
   "source": [
    "##### 4. Select and calculate the appropriate test statistic\n",
    "\n",
    "The test statistic I will use to test this hypothesis is the t-test. I will use the following equation to calculate my t-test statistic: \n",
    "\n",
    "$$t=\\frac{\\overline{X_1} - \\overline{X_2}}{\\sqrt{s_p^2(\\frac{1}{n_1}+\\frac{1}{n_2})}}$$\n",
    "\n",
    "In this equation $\\overline{X_1}$ is the sample mean for sample 1, $\\overline{X_2}$ is the sample mean for sample 2, $s_p^2$ is the pooled variance ($s_p^2 = \\frac{(n_1 - 1)s_1^2 + (n_2 - 1)s_2^2}{n_1 + n_2 - 2}$), $n_1$ is the number of observations in sample 1, and $n_2$ is the number of observations in sample 2.\n",
    "\n",
    "The equation in python using the SciPy Stats module looks like this:"
   ]
  },
  {
   "cell_type": "code",
   "execution_count": 8,
   "metadata": {},
   "outputs": [
    {
     "name": "stdout",
     "output_type": "stream",
     "text": [
      "Ttest_indResult(statistic=3.551930452553965, pvalue=0.00047950298933811456)\n"
     ]
    }
   ],
   "source": [
    "ttest_computed = stats.ttest_ind(group1, group2, axis=0, equal_var=True, nan_policy='omit')\n",
    "print(ttest_computed)"
   ]
  },
  {
   "cell_type": "markdown",
   "metadata": {},
   "source": [
    "##### 5. Formulate the decision rule\n",
    "\n",
    "In this case my t-test statistic is roughly 3.55. Now that I have my t-test statistic I can use it, along with my Level of Significance (0.05) and my Degrees of Freedom, 195, (which I get from the equation $n_{1} + n_{2} - 2)$ to use the t-distribution table to find my critical t-value. In this case my critical t-value is approximately $\\pm$ 1.97. \n",
    "\n",
    "Using this value I will can formulate my decision rule to decide whether or not to reject my null hypothesis. Since $H_{1}: \\mu_{1} \\ne \\mu_{2}$ I have a two tailed test so I create the following decision rules. \n",
    "* If the t-test statistic is greater than 1.97 or less than -1.97 then Reject $H_{0}$ and accept $H_{1}$\n",
    "* If the t-test statistic is less than or equal to 2.59 and greater than or equal to -2.59 then Fail to Reject $H_{0}$"
   ]
  },
  {
   "cell_type": "markdown",
   "metadata": {},
   "source": [
    "##### 6. Decision and Conclusion\n",
    "\n",
    "Since my t-test statistic (3.55) is greater than 1.97 I Reject my null hypothesis $H_{0}$ based on my decision rule. Based on this I also Fail to Reject my alternative hypothesis $H_{1}$. Now I know from my python computation that my p-value is roughly 0.0005. Because my p-value is less than my Level of Significance I find that my result is significant at 0.05.\n",
    "\n",
    "Therefore I can conclude at the $\\alpha = 0.05$ level that the mean amount of a transaction in the 'Merchandise' category is different from the mean amount of a transaction in the 'Restaurants' category."
   ]
  },
  {
   "cell_type": "markdown",
   "metadata": {},
   "source": [
    "#### Hypothesis Test 2:\n",
    "\n",
    "Is the mean amount of a transaction the 'Merchandise' category significantly greater than the mean transaction amount?\n",
    "\n",
    "##### 1. Prepare Data"
   ]
  },
  {
   "cell_type": "code",
   "execution_count": 9,
   "metadata": {},
   "outputs": [],
   "source": [
    "grouped = cc_df.groupby('Category')\n",
    "group1 = grouped.get_group('Merchandise')['Amount']"
   ]
  },
  {
   "cell_type": "markdown",
   "metadata": {},
   "source": [
    "##### 2. State Null and Alternative Hypotheses\n",
    "\n",
    "Since I want to prove that the mean group 1 (Merchandise) is different than the mean of group 2 (mean of all transactions) my null hypothesis is: \n",
    "\n",
    "$H_{0}: \\mu = 21.73$\n",
    "\n",
    "And since this is a one tailed t-test my alternative hypothesis is:\n",
    "\n",
    "$H_{1}: \\mu > 21.73$"
   ]
  },
  {
   "cell_type": "markdown",
   "metadata": {},
   "source": [
    "##### 3. Select the Level of Significance\n",
    "\n",
    "$\\alpha = 0.5$"
   ]
  },
  {
   "cell_type": "markdown",
   "metadata": {},
   "source": [
    "##### 4. Select and calculate the appropriate test statistic\n",
    "\n",
    "The test statistic I will use to test this hypothesis is the t-test. I will use the following equation to calculate my t-test statistic: \n",
    "\n",
    "$$t = \\frac{\\overline{x} - \\mu}{\\frac{s}{\\sqrt{n}}}$$\n",
    "\n",
    "In this equation $t$ is the t-test statistic, $\\overline{x}$ is the sample mean, $\\mu$ is the population mean being tested, $s$ is the sample standard deviation and $n$ is the sample size. \n",
    "\n",
    "The equation in python using the SciPy Stats module looks like this:"
   ]
  },
  {
   "cell_type": "code",
   "execution_count": 10,
   "metadata": {},
   "outputs": [
    {
     "name": "stdout",
     "output_type": "stream",
     "text": [
      "Ttest_1sampResult(statistic=2.04834990433803, pvalue=0.04304462497028286)\n"
     ]
    }
   ],
   "source": [
    "ttest_computed = stats.ttest_1samp(group1, 21.73, axis=0, nan_policy='omit')\n",
    "print(ttest_computed)"
   ]
  },
  {
   "cell_type": "markdown",
   "metadata": {},
   "source": [
    "##### 5. Formulate the decision rule\n",
    "\n",
    "In this case my t-test statistic is roughly 2.05. Now that I have my t-test statistic I can use it, along with my Level of Significance (0.05) and my Degrees of Freedom, 104, (which I get from the equation $n - 1$) to use the t-distribution table to find my critical t-value. In this case my critical t-value is approximately 1.66. \n",
    "\n",
    "Using this value I will can formulate my decision rule to decide whether or not to reject my null hypothesis. Since $H_{1}: \\mu > 21.73$ I have a one tailed test so I create the following decision rules. \n",
    "* If the t-test statistic is greater than 1.66 then Reject $H_{0}$ and accept $H_{1}$\n",
    "* If the t-test statistic is less than 1.66 then Fail to Reject $H_{0}$"
   ]
  },
  {
   "cell_type": "markdown",
   "metadata": {},
   "source": [
    "##### 6. Decision and Conclusion\n",
    "\n",
    "Since my t-test statistic (2.05) is greater than 1.66 I Reject $H_{0}$ and accept $H_{1}$ based on my decision rule. Now I know from my python computation that my p-value is roughly 0.04. Because my p-value is less than my Level of Significance I find that my result is significant at 0.05.\n",
    "\n",
    "Therefore I can conclude at the $\\alpha = 0.05$ level that the mean amount of a transaction in the 'Merchandise' category is greater than the mean transaction amount."
   ]
  },
  {
   "cell_type": "markdown",
   "metadata": {},
   "source": [
    "#### Hypothesis Test 3:\n",
    "\n",
    "Is the average transaction amount on a Friday less than the average Transaction amount on a Monday?\n",
    "\n",
    "##### 1. Prepare Data"
   ]
  },
  {
   "cell_type": "code",
   "execution_count": 11,
   "metadata": {},
   "outputs": [],
   "source": [
    "grouped = cc_df.groupby('Day of Week')\n",
    "group1 = grouped.get_group('Monday')['Amount']\n",
    "group2 = grouped.get_group('Friday')['Amount']"
   ]
  },
  {
   "cell_type": "markdown",
   "metadata": {},
   "source": [
    "##### 2. State Null and Alternative Hypotheses\n",
    "\n",
    "Since I want to prove that the mean of group 1 (Friday) is less than the mean of group 2 (Monday) my null hypothesis is: \n",
    "\n",
    "$H_{0}: \\mu_{1} = \\mu_{2}$\n",
    "\n",
    "And since this is a one tailed t-test my alternative hypothesis is:\n",
    "\n",
    "$H_{1}: \\mu_{1} < \\mu_{2}$"
   ]
  },
  {
   "cell_type": "markdown",
   "metadata": {},
   "source": [
    "##### 3. Select the Level of Significance\n",
    "\n",
    "$\\alpha = 0.5$"
   ]
  },
  {
   "cell_type": "markdown",
   "metadata": {},
   "source": [
    "##### 4. Select and calculate the appropriate test statistic\n",
    "\n",
    "The test statistic I will use to test this hypothesis is the t-test. I will use the following equation to calculate my t-test statistic: \n",
    "\n",
    "$$t=\\frac{\\overline{X_1} - \\overline{X_2}}{\\sqrt{s_p^2(\\frac{1}{n_1}+\\frac{1}{n_2})}}$$\n",
    "\n",
    "In this equation $\\overline{X_1}$ is the sample mean for sample 1, $\\overline{X_2}$ is the sample mean for sample 2, $s_p^2$ is the pooled variance ($s_p^2 = \\frac{(n_1 - 1)s_1^2 + (n_2 - 1)s_2^2}{n_1 + n_2 - 2}$), $n_1$ is the number of observations in sample 1, and $n_2$ is the number of observations in sample 2.\n",
    "\n",
    "The equation in python using the SciPy Stats module looks like this:"
   ]
  },
  {
   "cell_type": "code",
   "execution_count": 12,
   "metadata": {},
   "outputs": [
    {
     "name": "stdout",
     "output_type": "stream",
     "text": [
      "Ttest_indResult(statistic=0.9954337242517922, pvalue=0.3222546794175606)\n"
     ]
    }
   ],
   "source": [
    "ttest_computed = stats.ttest_ind(group1, group2, axis=0, equal_var=True, nan_policy='omit')\n",
    "print(ttest_computed)"
   ]
  },
  {
   "cell_type": "markdown",
   "metadata": {},
   "source": [
    "##### 5. Formulate the decision rule\n",
    "\n",
    "In this case my t-test statistic is roughly 0.99. Now that I have my t-test statistic I can use it, along with my Level of Significance (0.05) and my Degrees of Freedom, 88, (which I get from the equation $n_{1} + n_{2} - 2)$ to use the t-distribution table to find my critical t-value. In this case my critical t-value is approximately -1.66. \n",
    "\n",
    "Using this value I can formulate my decision rule to decide whether or not to reject my null hypothesis. Since $H_{1}: \\mu_{1} < \\mu_{2}$ I have a one tailed test so I create the following decision rules. \n",
    "* If the t-test statistic is less than -1.66 then Reject $H_{0}$ and accept $H_{1}$\n",
    "* If the t-test statistic is greater than or equal to -1.66 then Fail to Reject $H_{0}$"
   ]
  },
  {
   "cell_type": "markdown",
   "metadata": {},
   "source": [
    "##### 6. Decision and Conclusion\n",
    "\n",
    "Since my t-test statistic (0.99) is greater than -1.66 I Fail to Reject $H_{0}$ based on my decision rule. Now I know from my python computation that my p-value is roughly 0.32. Because my p-value is greater than my Level of Significance I find that my result is not significant at 0.05.\n",
    "\n",
    "Therefore I cannot conclude at the $\\alpha = 0.05$ level that the average transaction amount on a Friday is less than the average transaction amount on a Monday."
   ]
  },
  {
   "cell_type": "markdown",
   "metadata": {},
   "source": [
    "#### Hypothesis Testing Summary \n",
    "\n",
    "At $\\alpha = 0.5$ two of my alternative hypotheses can be Accepted at a significant level. Therefore I can conclude:\n",
    "\n",
    "* The mean amount of a transaction in the 'Merchandise' category is different from the mean amount of a transaction in the 'Restaurants' category.\n",
    "* The mean amount of a transaction in the 'Merchandise' category is greater than the mean transaction amount.\n",
    "\n",
    "But cannot conclude:\n",
    "* The average transaction amount on a Friday is less than the average transaction amount on a Monday."
   ]
  },
  {
   "cell_type": "markdown",
   "metadata": {},
   "source": [
    "## Classification \n",
    "\n",
    "For classification I will be using a kNN classifier and I will be testing this classifier against the decision tree classifier. The attribute that I will be attempting to predict is the 'Category' of a transactions. The preprocessing technique that I used is the holdout method. I felt this method would be the most reliable and accurate. The classifier I compared kNN is the Decision Tree classifier. We can see from the accuracy scores the the kNN method scored better in accuracy than the decision tree method however both were fairly accurate at .86 and .79 respectively."
   ]
  },
  {
   "cell_type": "code",
   "execution_count": 13,
   "metadata": {},
   "outputs": [
    {
     "name": "stdout",
     "output_type": "stream",
     "text": [
      "kNN Neighbors Accuracy: 0.8676470588235294\n",
      "Decision Tree Accuracy: 0.7941176470588235\n"
     ]
    }
   ],
   "source": [
    "#import modules\n",
    "from sklearn import tree\n",
    "from sklearn.tree import DecisionTreeClassifier\n",
    "from sklearn import preprocessing\n",
    "from sklearn.preprocessing import MinMaxScaler\n",
    "from sklearn.model_selection import train_test_split\n",
    "from sklearn.neighbors import KNeighborsClassifier\n",
    "\n",
    "#copy main DataFrame into DataFrame that can be changed\n",
    "class_cc_df = cc_df\n",
    "\n",
    "#description labels to numbers\n",
    "desc = preprocessing.LabelEncoder()\n",
    "desc.fit(class_cc_df['Description'])\n",
    "class_cc_df['Description'] = desc.transform(class_cc_df['Description'])\n",
    "#category labels to numbers\n",
    "cat = preprocessing.LabelEncoder()\n",
    "cat.fit(class_cc_df['Category'])\n",
    "class_cc_df['Category'] = cat.transform(class_cc_df['Category'])\n",
    "\n",
    "y = class_cc_df['Category']\n",
    "X = class_cc_df.drop(['Date','Day of Week','Category'], axis=1)\n",
    "\n",
    "#create training and testing sets aka the holdout method \n",
    "scaler = MinMaxScaler()\n",
    "X = scaler.fit_transform(X)\n",
    "X_train, X_test, y_train, y_test = train_test_split(X, y, random_state=0, stratify=y, test_size=0.25)\n",
    "\n",
    "#kNN classification using 1 neighbors (had highest accuracy)\n",
    "clf_kNN = KNeighborsClassifier(n_neighbors=1, metric=\"euclidean\")\n",
    "clf_kNN.fit(X_train, y_train)\n",
    "#decision tree classification\n",
    "clf_tree = DecisionTreeClassifier(random_state=0)\n",
    "clf_tree.fit(X_train, y_train)\n",
    "\n",
    "#get kNN accuracy \n",
    "acc_kNN = clf_kNN.score(X_test, y_test)\n",
    "print(\"kNN Neighbors Accuracy:\", acc_kNN)\n",
    "#get tree accuracy\n",
    "acc_tree = clf_tree.score(X_test, y_test)\n",
    "print(\"Decision Tree Accuracy:\", acc_tree)"
   ]
  },
  {
   "cell_type": "markdown",
   "metadata": {},
   "source": [
    "## Conclusion \n",
    "\n",
    "### Summary \n",
    "Overall this data exploration of my credit card transaction data gave me, and hopefully many others, a lot of insight into the domain of personal finance. Past just what the attributes provided the visualizations, hypothesis testing and  classification gave a deeper look and provided meaningful connections that were not available on surface level of the data. I was able to come to many significant conclusions such as 'Merchandise' being a category I need to significantly cut spending in.\n",
    "\n",
    "### Classification \n",
    "The dataset was pretty easy to work with although the nature of the dataset undoubtedly lowered the accuracy of the classification methods used. This is because there were a lot of unique transactions that could not necessarily be predicted based of the rest of the data set. An easy way to improve the performance of the classifiers used would be to get rid of these unique transactions. \n",
    "\n",
    "### Ethical Impacts\n",
    "The only potential ethical impacts I could think of regarding this data and its analysis is the potential exploitation of people through analyzing their spending habits or the spending habits of people similar to them and taking advantage of these habits in order to take their money. Besides this I do not see this data having any widespread ethical impacts."
   ]
  }
 ],
 "metadata": {
  "kernelspec": {
   "display_name": "Python 3",
   "language": "python",
   "name": "python3"
  },
  "language_info": {
   "codemirror_mode": {
    "name": "ipython",
    "version": 3
   },
   "file_extension": ".py",
   "mimetype": "text/x-python",
   "name": "python",
   "nbconvert_exporter": "python",
   "pygments_lexer": "ipython3",
   "version": "3.8.3"
  }
 },
 "nbformat": 4,
 "nbformat_minor": 4
}
